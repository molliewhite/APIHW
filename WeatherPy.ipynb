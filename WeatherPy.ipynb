{
 "cells": [
  {
   "cell_type": "markdown",
   "metadata": {
    "scrolled": true
   },
   "source": [
    "* Temperature (F) vs. Latitude\n",
    "    * Temperature goes down as latitude goes up\n",
    "* Humidity (%) vs. Latitude\n",
    "    * There doesn't seem to be a relationship between humidity and latitude\n",
    "* Cloudiness (%) vs. Latitude\n",
    "    * There doesnt seem to be a relationship between clouds and latitude \n",
    "* Wind Speed (mph) vs. Latitude\n",
    "    * Wind speeds drift higher as the latitude gets higher. "
   ]
  },
  {
   "cell_type": "code",
   "execution_count": 21,
   "metadata": {},
   "outputs": [],
   "source": [
    "# Dependencies and Setup\n",
    "import matplotlib.pyplot as plt\n",
    "import pandas as pd\n",
    "import numpy as np\n",
    "import requests\n",
    "import time\n",
    "import json \n",
    "\n",
    "# Import API key\n",
    "import api_keys\n",
    "\n",
    "# Incorporated citipy to determine city based on latitude and longitude\n",
    "from citipy import citipy\n",
    "\n",
    "# Output File (CSV)\n",
    "output_data_file = \"output_data/cities.csv\"\n",
    "\n",
    "# Range of latitudes and longitudes\n",
    "lat_range = (-90, 90)\n",
    "lng_range = (-180, 180)"
   ]
  },
  {
   "cell_type": "markdown",
   "metadata": {},
   "source": [
    "## Generate Cities List"
   ]
  },
  {
   "cell_type": "code",
   "execution_count": 22,
   "metadata": {},
   "outputs": [
    {
     "data": {
      "text/plain": [
       "608"
      ]
     },
     "execution_count": 22,
     "metadata": {},
     "output_type": "execute_result"
    }
   ],
   "source": [
    "# List for holding lat_lngs and cities\n",
    "lat_lngs = []\n",
    "cities = []\n",
    "\n",
    "\n",
    "# Create a set of random lat and lng combinations\n",
    "lats = np.random.uniform(low=-90.000, high=90.000, size=1500)\n",
    "lngs = np.random.uniform(low=-180.000, high=180.000, size=1500)\n",
    "lat_lngs = zip(lats, lngs)\n",
    "\n",
    "# Identify nearest city for each lat, lng combination\n",
    "for lat_lng in lat_lngs:\n",
    "    city = citipy.nearest_city(lat_lng[0], lat_lng[1]).city_name\n",
    "    \n",
    "    # If the city is unique, then add it to a our cities list\n",
    "    if city not in cities:\n",
    "        cities.append(city)\n",
    "\n",
    "# Print the city count to confirm sufficient count\n",
    "len(cities)"
   ]
  },
  {
   "cell_type": "markdown",
   "metadata": {},
   "source": [
    "## Perform API Calls"
   ]
  },
  {
   "cell_type": "code",
   "execution_count": 23,
   "metadata": {},
   "outputs": [
    {
     "data": {
      "text/html": [
       "<div>\n",
       "<style scoped>\n",
       "    .dataframe tbody tr th:only-of-type {\n",
       "        vertical-align: middle;\n",
       "    }\n",
       "\n",
       "    .dataframe tbody tr th {\n",
       "        vertical-align: top;\n",
       "    }\n",
       "\n",
       "    .dataframe thead th {\n",
       "        text-align: right;\n",
       "    }\n",
       "</style>\n",
       "<table border=\"1\" class=\"dataframe\">\n",
       "  <thead>\n",
       "    <tr style=\"text-align: right;\">\n",
       "      <th></th>\n",
       "      <th>City</th>\n",
       "    </tr>\n",
       "  </thead>\n",
       "  <tbody>\n",
       "    <tr>\n",
       "      <th>0</th>\n",
       "      <td>sioux lookout</td>\n",
       "    </tr>\n",
       "    <tr>\n",
       "      <th>1</th>\n",
       "      <td>kaitangata</td>\n",
       "    </tr>\n",
       "    <tr>\n",
       "      <th>2</th>\n",
       "      <td>kodiak</td>\n",
       "    </tr>\n",
       "    <tr>\n",
       "      <th>3</th>\n",
       "      <td>ponta delgada</td>\n",
       "    </tr>\n",
       "    <tr>\n",
       "      <th>4</th>\n",
       "      <td>hobart</td>\n",
       "    </tr>\n",
       "  </tbody>\n",
       "</table>\n",
       "</div>"
      ],
      "text/plain": [
       "            City\n",
       "0  sioux lookout\n",
       "1     kaitangata\n",
       "2         kodiak\n",
       "3  ponta delgada\n",
       "4         hobart"
      ]
     },
     "execution_count": 23,
     "metadata": {},
     "output_type": "execute_result"
    }
   ],
   "source": [
    "citypd = pd.DataFrame({\n",
    "    'City': cities\n",
    "})\n",
    "\n",
    "citypd.head()"
   ]
  },
  {
   "cell_type": "code",
   "execution_count": 24,
   "metadata": {},
   "outputs": [],
   "source": [
    "# OpenWeatherMap API Key\n",
    "api_key = api_keys.api_key\n",
    "\n"
   ]
  },
  {
   "cell_type": "code",
   "execution_count": null,
   "metadata": {},
   "outputs": [],
   "source": []
  },
  {
   "cell_type": "code",
   "execution_count": null,
   "metadata": {},
   "outputs": [
    {
     "name": "stderr",
     "output_type": "stream",
     "text": [
      "C:\\Users\\molli\\Anaconda3\\envs\\PythonData\\lib\\site-packages\\ipykernel_launcher.py:19: FutureWarning: set_value is deprecated and will be removed in a future release. Please use .at[] or .iat[] accessors instead\n",
      "C:\\Users\\molli\\Anaconda3\\envs\\PythonData\\lib\\site-packages\\ipykernel_launcher.py:20: FutureWarning: set_value is deprecated and will be removed in a future release. Please use .at[] or .iat[] accessors instead\n",
      "C:\\Users\\molli\\Anaconda3\\envs\\PythonData\\lib\\site-packages\\ipykernel_launcher.py:21: FutureWarning: set_value is deprecated and will be removed in a future release. Please use .at[] or .iat[] accessors instead\n",
      "C:\\Users\\molli\\Anaconda3\\envs\\PythonData\\lib\\site-packages\\ipykernel_launcher.py:22: FutureWarning: set_value is deprecated and will be removed in a future release. Please use .at[] or .iat[] accessors instead\n",
      "C:\\Users\\molli\\Anaconda3\\envs\\PythonData\\lib\\site-packages\\ipykernel_launcher.py:23: FutureWarning: set_value is deprecated and will be removed in a future release. Please use .at[] or .iat[] accessors instead\n",
      "C:\\Users\\molli\\Anaconda3\\envs\\PythonData\\lib\\site-packages\\ipykernel_launcher.py:24: FutureWarning: set_value is deprecated and will be removed in a future release. Please use .at[] or .iat[] accessors instead\n",
      "C:\\Users\\molli\\Anaconda3\\envs\\PythonData\\lib\\site-packages\\ipykernel_launcher.py:25: FutureWarning: set_value is deprecated and will be removed in a future release. Please use .at[] or .iat[] accessors instead\n",
      "C:\\Users\\molli\\Anaconda3\\envs\\PythonData\\lib\\site-packages\\ipykernel_launcher.py:26: FutureWarning: set_value is deprecated and will be removed in a future release. Please use .at[] or .iat[] accessors instead\n"
     ]
    },
    {
     "name": "stdout",
     "output_type": "stream",
     "text": [
      "------------------------\n",
      "Procesing: City #  1  |  Sioux Lookout CA\n",
      "http://api.openweathermap.org/data/2.5/weather?appid=870f8ebcb7593b1b710e4746bf96e846&units=IMPERIAL&q=sioux+lookout\n",
      "------------------------\n",
      "Procesing: City #  2  |  Kaitangata NZ\n",
      "http://api.openweathermap.org/data/2.5/weather?appid=870f8ebcb7593b1b710e4746bf96e846&units=IMPERIAL&q=kaitangata\n",
      "------------------------\n",
      "Procesing: City #  3  |  Kodiak US\n",
      "http://api.openweathermap.org/data/2.5/weather?appid=870f8ebcb7593b1b710e4746bf96e846&units=IMPERIAL&q=kodiak\n",
      "------------------------\n",
      "Procesing: City #  4  |  Ponta Delgada PT\n",
      "http://api.openweathermap.org/data/2.5/weather?appid=870f8ebcb7593b1b710e4746bf96e846&units=IMPERIAL&q=ponta+delgada\n",
      "------------------------\n",
      "Procesing: City #  5  |  Hobart AU\n",
      "http://api.openweathermap.org/data/2.5/weather?appid=870f8ebcb7593b1b710e4746bf96e846&units=IMPERIAL&q=hobart\n",
      "------------------------\n",
      "Procesing: City #  6  |  Norman Wells CA\n",
      "http://api.openweathermap.org/data/2.5/weather?appid=870f8ebcb7593b1b710e4746bf96e846&units=IMPERIAL&q=norman+wells\n",
      "City not found, skipping...\n",
      "------------------------\n",
      "Procesing: City #  7  |  Ushuaia AR\n",
      "http://api.openweathermap.org/data/2.5/weather?appid=870f8ebcb7593b1b710e4746bf96e846&units=IMPERIAL&q=ushuaia\n",
      "------------------------\n",
      "Procesing: City #  8  |  Lagoa PT\n",
      "http://api.openweathermap.org/data/2.5/weather?appid=870f8ebcb7593b1b710e4746bf96e846&units=IMPERIAL&q=lagoa\n",
      "------------------------\n",
      "Procesing: City #  9  |  Castro CL\n",
      "http://api.openweathermap.org/data/2.5/weather?appid=870f8ebcb7593b1b710e4746bf96e846&units=IMPERIAL&q=castro\n",
      "------------------------\n",
      "Procesing: City #  10  |  Mataura NZ\n",
      "http://api.openweathermap.org/data/2.5/weather?appid=870f8ebcb7593b1b710e4746bf96e846&units=IMPERIAL&q=mataura\n",
      "------------------------\n",
      "Procesing: City #  11  |  Port Alfred ZA\n",
      "http://api.openweathermap.org/data/2.5/weather?appid=870f8ebcb7593b1b710e4746bf96e846&units=IMPERIAL&q=port+alfred\n",
      "------------------------\n",
      "Procesing: City #  12  |  Adrar DZ\n",
      "http://api.openweathermap.org/data/2.5/weather?appid=870f8ebcb7593b1b710e4746bf96e846&units=IMPERIAL&q=adrar\n",
      "------------------------\n",
      "Procesing: City #  13  |  San Carlos de Bariloche AR\n",
      "http://api.openweathermap.org/data/2.5/weather?appid=870f8ebcb7593b1b710e4746bf96e846&units=IMPERIAL&q=san+carlos+de+bariloche\n",
      "------------------------\n",
      "Procesing: City #  14  |  East London ZA\n",
      "http://api.openweathermap.org/data/2.5/weather?appid=870f8ebcb7593b1b710e4746bf96e846&units=IMPERIAL&q=east+london\n",
      "------------------------\n",
      "Procesing: City #  15  |  Yeppoon AU\n",
      "http://api.openweathermap.org/data/2.5/weather?appid=870f8ebcb7593b1b710e4746bf96e846&units=IMPERIAL&q=yeppoon\n",
      "------------------------\n",
      "Procesing: City #  16  |  Puerto del Rosario ES\n",
      "http://api.openweathermap.org/data/2.5/weather?appid=870f8ebcb7593b1b710e4746bf96e846&units=IMPERIAL&q=puerto+del+rosario\n",
      "------------------------\n",
      "Procesing: City #  17  |  Lata IN\n",
      "http://api.openweathermap.org/data/2.5/weather?appid=870f8ebcb7593b1b710e4746bf96e846&units=IMPERIAL&q=lata\n",
      "------------------------\n",
      "Procesing: City #  18  |  Saskylakh RU\n",
      "http://api.openweathermap.org/data/2.5/weather?appid=870f8ebcb7593b1b710e4746bf96e846&units=IMPERIAL&q=saskylakh\n",
      "City not found, skipping...\n",
      "------------------------\n",
      "Procesing: City #  19  |  Talnakh RU\n",
      "http://api.openweathermap.org/data/2.5/weather?appid=870f8ebcb7593b1b710e4746bf96e846&units=IMPERIAL&q=talnakh\n",
      "------------------------\n",
      "Procesing: City #  20  |  College US\n",
      "http://api.openweathermap.org/data/2.5/weather?appid=870f8ebcb7593b1b710e4746bf96e846&units=IMPERIAL&q=college\n",
      "------------------------\n",
      "Procesing: City #  21  |  Kapaa US\n",
      "http://api.openweathermap.org/data/2.5/weather?appid=870f8ebcb7593b1b710e4746bf96e846&units=IMPERIAL&q=kapaa\n",
      "------------------------\n",
      "Procesing: City #  22  |  Waingapu ID\n",
      "http://api.openweathermap.org/data/2.5/weather?appid=870f8ebcb7593b1b710e4746bf96e846&units=IMPERIAL&q=waingapu\n",
      "------------------------\n",
      "Procesing: City #  23  |  Anadyr RU\n",
      "http://api.openweathermap.org/data/2.5/weather?appid=870f8ebcb7593b1b710e4746bf96e846&units=IMPERIAL&q=anadyr\n",
      "------------------------\n",
      "Procesing: City #  24  |  Husavik CA\n",
      "http://api.openweathermap.org/data/2.5/weather?appid=870f8ebcb7593b1b710e4746bf96e846&units=IMPERIAL&q=husavik\n",
      "------------------------\n",
      "Procesing: City #  25  |  Esperance TT\n",
      "http://api.openweathermap.org/data/2.5/weather?appid=870f8ebcb7593b1b710e4746bf96e846&units=IMPERIAL&q=esperance\n",
      "------------------------\n",
      "Procesing: City #  26  |  Richmond CA\n",
      "http://api.openweathermap.org/data/2.5/weather?appid=870f8ebcb7593b1b710e4746bf96e846&units=IMPERIAL&q=richmond\n",
      "------------------------\n",
      "Procesing: City #  27  |  Lompoc US\n",
      "http://api.openweathermap.org/data/2.5/weather?appid=870f8ebcb7593b1b710e4746bf96e846&units=IMPERIAL&q=lompoc\n"
     ]
    }
   ],
   "source": [
    "column_names = [\"City\",\"Country\",\"Temperature (F)\",\n",
    "                \"Latitude\",\"Longitude\",\"Humidity (%)\",\n",
    "                \"Cloudiness (%)\", \"Wind Speed (mph)\"]\n",
    "cleancitypd = pd.DataFrame(columns=column_names)\n",
    "\n",
    "# Loop through the list of cities and add the data to the df.\n",
    "url = \"http://api.openweathermap.org/data/2.5/weather?\"\n",
    "\n",
    "row_count = 1\n",
    "\n",
    "for index, row in citypd.iterrows():\n",
    "    target_city = row[\"City\"]\n",
    "    target_url = url + 'appid=' + api_key + '&units=IMPERIAL' + '&q=' + target_city.replace(' ',\"+\")\n",
    "    weather_data = requests.get(target_url).json()\n",
    "    if weather_data[\"cod\"] == \"404\":\n",
    "        print(\"City not found, skipping...\")\n",
    "\n",
    "    else:\n",
    "        cleancitypd.set_value(index, \"City\", weather_data[\"name\"])\n",
    "        cleancitypd.set_value(index, \"Country\", weather_data[\"sys\"][\"country\"])\n",
    "        cleancitypd.set_value(index, \"Temperature (F)\", weather_data[\"main\"][\"temp\"])\n",
    "        cleancitypd.set_value(index, \"Latitude\", weather_data[\"coord\"][\"lat\"])\n",
    "        cleancitypd.set_value(index, \"Longitude\", weather_data[\"coord\"][\"lon\"])\n",
    "        cleancitypd.set_value(index, \"Humidity (%)\", weather_data[\"main\"][\"humidity\"])\n",
    "        cleancitypd.set_value(index, \"Cloudiness (%)\", weather_data[\"clouds\"][\"all\"])\n",
    "        cleancitypd.set_value(index, \"Wind Speed (mph)\", weather_data[\"wind\"][\"speed\"])\n",
    "        \n",
    "        print(\"------------------------\")\n",
    "        print(\"Procesing: City # \" , row_count, ' | ' , weather_data[\"name\"], weather_data[\"sys\"][\"country\"])\n",
    "        print(target_url)\n",
    "        row_count += 1"
   ]
  },
  {
   "cell_type": "code",
   "execution_count": null,
   "metadata": {},
   "outputs": [],
   "source": [
    "cleancitypd.to_csv(\"Weather_Data.csv\")\n",
    "cleancitypd.head()"
   ]
  },
  {
   "cell_type": "code",
   "execution_count": null,
   "metadata": {},
   "outputs": [],
   "source": [
    "plt.scatter(cleancitypd[\"Latitude\"], \n",
    "            cleancitypd[\"Temperature (F)\"], c=cleancitypd[\"Temperature (F)\"],\n",
    "            edgecolor=\"black\", linewidths=1, marker=\"o\", \n",
    "            cmap='plasma', alpha=0.8, label=\"City\")\n",
    "\n",
    "plt.style.use('seaborn')\n",
    "plt.title(f\"City Latitude vs. Max Temperature\")\n",
    "plt.ylabel(\"Max Temperature (F)\")\n",
    "plt.xlabel(\"Latitude\")\n",
    "plt.grid(True)\n",
    "\n",
    "\n",
    "plt.savefig(\"Latitude_Temperature.png\")\n",
    "\n",
    "plt.show()\n"
   ]
  },
  {
   "cell_type": "code",
   "execution_count": null,
   "metadata": {},
   "outputs": [],
   "source": [
    "plt.scatter(cleancitypd[\"Latitude\"], \n",
    "            cleancitypd[\"Humidity (%)\"], c=cleancitypd[\"Humidity (%)\"],\n",
    "            edgecolor=\"black\", linewidths=1, marker=\"o\", \n",
    "            cmap='GnBu', alpha=0.8, label=\"City\")\n",
    "\n",
    "plt.style.use('seaborn')\n",
    "plt.title(f\"City Latitude vs. Humidity (%)\")\n",
    "plt.ylabel(\"Humidity (%)\")\n",
    "plt.xlabel(\"Latitude\")\n",
    "plt.grid(True)\n",
    "\n",
    "\n",
    "plt.savefig(\"Latitude_Humidity.png\")\n",
    "\n",
    "plt.show()\n"
   ]
  },
  {
   "cell_type": "code",
   "execution_count": null,
   "metadata": {},
   "outputs": [],
   "source": [
    "plt.scatter(cleancitypd[\"Latitude\"], \n",
    "            cleancitypd[\"Cloudiness (%)\"], c=cleancitypd[\"Cloudiness (%)\"],\n",
    "            edgecolor=\"black\", linewidths=1, marker=\"o\", \n",
    "            cmap='PuBuGn', alpha=0.8, label=\"City\")\n",
    "\n",
    "plt.style.use('seaborn')\n",
    "plt.title(f\"City Latitude vs. Cloudiness (%)\")\n",
    "plt.ylabel(\"Cloudiness (%)\")\n",
    "plt.xlabel(\"Latitude\")\n",
    "plt.grid(True)\n",
    "\n",
    "\n",
    "plt.savefig(\"Latitude_Cloud.png\")\n",
    "\n",
    "plt.show()"
   ]
  },
  {
   "cell_type": "code",
   "execution_count": null,
   "metadata": {},
   "outputs": [],
   "source": [
    "plt.scatter(cleancitypd[\"Latitude\"], \n",
    "            cleancitypd[\"Wind Speed (mph)\"], c=cleancitypd[\"Wind Speed (mph)\"],\n",
    "            edgecolor=\"black\", linewidths=1, marker=\"o\", \n",
    "            cmap='cividis', alpha=0.8, label=\"City\")\n",
    "\n",
    "plt.style.use('seaborn')\n",
    "plt.title(f\"City Latitude vs. Wind Speed (mph)\")\n",
    "plt.ylabel(\"Wind Speed (mph)\")\n",
    "plt.xlabel(\"Latitude\")\n",
    "plt.grid(True)\n",
    "\n",
    "\n",
    "plt.savefig(\"Latitude_Wind.png\")\n",
    "\n",
    "plt.show()"
   ]
  },
  {
   "cell_type": "code",
   "execution_count": null,
   "metadata": {},
   "outputs": [],
   "source": []
  },
  {
   "cell_type": "code",
   "execution_count": null,
   "metadata": {},
   "outputs": [],
   "source": []
  },
  {
   "cell_type": "code",
   "execution_count": null,
   "metadata": {},
   "outputs": [],
   "source": []
  },
  {
   "cell_type": "code",
   "execution_count": null,
   "metadata": {},
   "outputs": [],
   "source": []
  }
 ],
 "metadata": {
  "anaconda-cloud": {},
  "kernelspec": {
   "display_name": "Python 3",
   "language": "python",
   "name": "python3"
  },
  "language_info": {
   "codemirror_mode": {
    "name": "ipython",
    "version": 3
   },
   "file_extension": ".py",
   "mimetype": "text/x-python",
   "name": "python",
   "nbconvert_exporter": "python",
   "pygments_lexer": "ipython3",
   "version": "3.6.5"
  }
 },
 "nbformat": 4,
 "nbformat_minor": 1
}
